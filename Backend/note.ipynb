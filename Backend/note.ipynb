{
 "cells": [
  {
   "cell_type": "code",
   "execution_count": 2,
   "id": "70194f65",
   "metadata": {},
   "outputs": [],
   "source": [
    "import pandas as pd\n",
    "from scipy.io import arff\n"
   ]
  },
  {
   "cell_type": "code",
   "execution_count": 5,
   "id": "aa7f5624",
   "metadata": {},
   "outputs": [],
   "source": [
    "data, meta = arff.loadarff('../Backend/Data/Training Dataset.arff')\n"
   ]
  },
  {
   "cell_type": "code",
   "execution_count": 7,
   "id": "e224a879",
   "metadata": {},
   "outputs": [
    {
     "name": "stdout",
     "output_type": "stream",
     "text": [
      "Complete!\n"
     ]
    }
   ],
   "source": [
    "df = pd.DataFrame(data)\n",
    "df = df.map(lambda x:x.decode() if isinstance(x, bytes) else x)\n",
    "df.to_csv('../Backend/Data/Training Dataset.csv')\n",
    "print(\"Complete!\")\n"
   ]
  }
 ],
 "metadata": {
  "kernelspec": {
   "display_name": "myenv",
   "language": "python",
   "name": "python3"
  },
  "language_info": {
   "codemirror_mode": {
    "name": "ipython",
    "version": 3
   },
   "file_extension": ".py",
   "mimetype": "text/x-python",
   "name": "python",
   "nbconvert_exporter": "python",
   "pygments_lexer": "ipython3",
   "version": "3.13.2"
  }
 },
 "nbformat": 4,
 "nbformat_minor": 5
}
